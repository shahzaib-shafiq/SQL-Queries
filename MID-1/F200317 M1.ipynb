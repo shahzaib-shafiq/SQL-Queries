{
 "cells": [
  {
   "cell_type": "code",
   "execution_count": 88,
   "id": "2cb9f342",
   "metadata": {},
   "outputs": [
    {
     "name": "stdout",
     "output_type": "stream",
     "text": [
      "[(1, 1), (2, 8), (3, 27), (4, 64), (5, 125)]\n",
      "18\n",
      "23\n",
      "28\n",
      "33\n",
      "[2, 4, 6, 8, 10, 12, 14]\n",
      "[1, 4, 9, 16, 25, 36, 49, 64, 81, 100, 121, 144, 169, 196]\n"
     ]
    },
    {
     "ename": "NameError",
     "evalue": "name 'x' is not defined",
     "output_type": "error",
     "traceback": [
      "\u001b[1;31m---------------------------------------------------------------------------\u001b[0m",
      "\u001b[1;31mNameError\u001b[0m                                 Traceback (most recent call last)",
      "Cell \u001b[1;32mIn[88], line 43\u001b[0m\n\u001b[0;32m     38\u001b[0m \u001b[38;5;28mprint\u001b[39m(squarenum)\n\u001b[0;32m     41\u001b[0m \u001b[38;5;66;03m#PART C\u001b[39;00m\n\u001b[1;32m---> 43\u001b[0m squareeven\u001b[38;5;241m=\u001b[39m\u001b[38;5;28mlist\u001b[39m(\u001b[38;5;28mmap\u001b[39m(\u001b[38;5;28;01mlambda\u001b[39;00m x:x\u001b[38;5;241m%\u001b[39m\u001b[38;5;241m2\u001b[39m\u001b[38;5;241m==\u001b[39m\u001b[38;5;241m0\u001b[39m,x\u001b[38;5;241m*\u001b[39m\u001b[38;5;241m*\u001b[39m\u001b[38;5;241m2\u001b[39m,temps))\n\u001b[0;32m     44\u001b[0m \u001b[38;5;28mprint\u001b[39m(squareeven)\n",
      "\u001b[1;31mNameError\u001b[0m: name 'x' is not defined"
     ]
    }
   ],
   "source": [
    "#Part 2\n",
    "\n",
    "\n",
    "#Question 3\n",
    "\n",
    "#part-A\n",
    "\n",
    "val=[values for values in range(1,6)]\n",
    "\n",
    "cubes=list(map(lambda x:(x,x**3),val))\n",
    "print(cubes)\n",
    "\n",
    "#part-B\n",
    "\n",
    "threemul= (values for values in range(20) if values%3==0)\n",
    "\n",
    "\n",
    "fivemul= (values for values in range(20) if values%5==0)\n",
    "\n",
    "\n",
    "for value2 in threemul:\n",
    "    for value2 in fivemul:\n",
    "        print (value+value2)\n",
    "         \n",
    "\n",
    "#Question 4\n",
    "\n",
    "\n",
    "val=[values for values in range(1,15)]\n",
    "\n",
    "# PART  A\n",
    "evennum = list(filter(lambda x:x%2==0,val))\n",
    "print(evennum)\n",
    "\n",
    "#PART B\n",
    "\n",
    "squarenum = list(map(lambda x:x**2,val))\n",
    "print(squarenum)\n",
    "\n",
    "\n",
    "#PART C\n",
    "\n",
    "squareeven=list(map(lambda x:x%2==0,x**2,temps))\n",
    "print(squareeven)\n",
    "\n"
   ]
  },
  {
   "cell_type": "code",
   "execution_count": null,
   "id": "c6ba325e",
   "metadata": {},
   "outputs": [],
   "source": []
  }
 ],
 "metadata": {
  "kernelspec": {
   "display_name": "Python 3 (ipykernel)",
   "language": "python",
   "name": "python3"
  },
  "language_info": {
   "codemirror_mode": {
    "name": "ipython",
    "version": 3
   },
   "file_extension": ".py",
   "mimetype": "text/x-python",
   "name": "python",
   "nbconvert_exporter": "python",
   "pygments_lexer": "ipython3",
   "version": "3.11.4"
  }
 },
 "nbformat": 4,
 "nbformat_minor": 5
}
